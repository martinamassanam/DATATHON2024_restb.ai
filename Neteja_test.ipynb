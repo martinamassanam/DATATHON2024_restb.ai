{
 "cells": [
  {
   "cell_type": "code",
   "execution_count": null,
   "metadata": {
    "executionInfo": {
     "elapsed": 505,
     "status": "ok",
     "timestamp": 1731835825689,
     "user": {
      "displayName": "Alba Ungueti Saló",
      "userId": "05759735232587896184"
     },
     "user_tz": -60
    },
    "id": "ZuSrZUNOP1xV"
   },
   "outputs": [],
   "source": [
    "import pandas as pd"
   ]
  },
  {
   "cell_type": "code",
   "execution_count": null,
   "metadata": {
    "executionInfo": {
     "elapsed": 379,
     "status": "ok",
     "timestamp": 1731835826064,
     "user": {
      "displayName": "Alba Ungueti Saló",
      "userId": "05759735232587896184"
     },
     "user_tz": -60
    },
    "id": "ULxqPmd2PeJj"
   },
   "outputs": [],
   "source": [
    "df_test = pd.read_csv('test_raw.txt')\n",
    "df_test = df_test.rename(columns={'Location.Address.PostalCode': 'Zip'})\n",
    "df_test['Zip'] = df_test['Zip'].astype(str).str[:5].astype(int)"
   ]
  },
  {
   "cell_type": "code",
   "execution_count": null,
   "metadata": {
    "colab": {
     "base_uri": "https://localhost:8080/",
     "height": 206
    },
    "executionInfo": {
     "elapsed": 392,
     "status": "ok",
     "timestamp": 1731835826455,
     "user": {
      "displayName": "Alba Ungueti Saló",
      "userId": "05759735232587896184"
     },
     "user_tz": -60
    },
    "id": "IvqmMcPTPzpV",
    "outputId": "6f2492d2-36b3-4be6-b6c7-3d1758562a9b"
   },
   "outputs": [],
   "source": [
    "df_income = pd.read_excel('income.xlsx')\n",
    "df_income['Zip / Population'] = df_income['Zip / Population'].str[:5]\n",
    "df_income= df_income.drop(columns=['Rank'])\n",
    "df_income = df_income.rename(columns={'Zip / Population': 'Zip'})\n",
    "df_income = df_income.rename(columns={'Median Household Income ▼': 'Median Household Income'})\n",
    "df_income['Zip'] = df_income['Zip'].astype(int)\n",
    "df_income['Median Household Income'] = (\n",
    "    df_income['Median Household Income']\n",
    "    .str.replace('$', '', regex=False)\n",
    "    .str.replace(',', '', regex=False)\n",
    "    .astype(int)  )\n",
    "df_income.head()"
   ]
  },
  {
   "cell_type": "code",
   "execution_count": null,
   "metadata": {
    "executionInfo": {
     "elapsed": 1235,
     "status": "ok",
     "timestamp": 1731835827689,
     "user": {
      "displayName": "Alba Ungueti Saló",
      "userId": "05759735232587896184"
     },
     "user_tz": -60
    },
    "id": "DWchy_zPQJeg"
   },
   "outputs": [],
   "source": [
    "df = pd.merge(df_test, df_income, on='Zip', how='left')\n",
    "df.to_csv('data_with_income.csv', index=False)"
   ]
  },
  {
   "cell_type": "code",
   "execution_count": null,
   "metadata": {
    "executionInfo": {
     "elapsed": 4,
     "status": "ok",
     "timestamp": 1731835827689,
     "user": {
      "displayName": "Alba Ungueti Saló",
      "userId": "05759735232587896184"
     },
     "user_tz": -60
    },
    "id": "Dz-saVwQQUYc"
   },
   "outputs": [],
   "source": [
    "df['ImageData.c1c6.summary.property'] = df['ImageData.c1c6.summary.property'].fillna(df['ImageData.c1c6.summary.property'].mean())\n",
    "df['ImageData.q1q6.summary.property'] = df['ImageData.q1q6.summary.property'].fillna(df['ImageData.q1q6.summary.property'].mean())\n",
    "df['Structure.Rooms.RoomsTotal'] = df['Structure.Rooms.RoomsTotal'].fillna(df['Structure.Rooms.RoomsTotal'].mean())"
   ]
  },
  {
   "cell_type": "code",
   "execution_count": null,
   "metadata": {
    "executionInfo": {
     "elapsed": 2480,
     "status": "ok",
     "timestamp": 1731835830166,
     "user": {
      "displayName": "Alba Ungueti Saló",
      "userId": "05759735232587896184"
     },
     "user_tz": -60
    },
    "id": "qW9xmEIRRCVT"
   },
   "outputs": [],
   "source": [
    "import ast\n",
    "\n",
    "# List of the categorical columns that are structure as a list of strings\n",
    "columns_to_transform = ['ImageData.features_reso.results', 'ImageData.room_type_reso.results',\n",
    "                        'Structure.Heating', 'Structure.Cooling']\n",
    "\n",
    "# Separate each list\n",
    "for col in columns_to_transform:\n",
    "    df[col] = [\n",
    "        ast.literal_eval(sublist) if isinstance(sublist, str) else []\n",
    "        for sublist in df[col]\n",
    "    ]"
   ]
  },
  {
   "cell_type": "code",
   "execution_count": null,
   "metadata": {
    "executionInfo": {
     "elapsed": 423,
     "status": "ok",
     "timestamp": 1731835830585,
     "user": {
      "displayName": "Alba Ungueti Saló",
      "userId": "05759735232587896184"
     },
     "user_tz": -60
    },
    "id": "V_lK3mryRTQW"
   },
   "outputs": [],
   "source": [
    "from sklearn.preprocessing import MultiLabelBinarizer\n",
    "from sklearn.preprocessing import OneHotEncoder\n",
    "\n",
    "mlb = MultiLabelBinarizer()\n",
    "\n",
    "\n",
    "# Apply one-hot encoding to each column and concatenate the results\n",
    "one_hot_features = pd.DataFrame(mlb.fit_transform(df['ImageData.features_reso.results']),\n",
    "                                 columns=mlb.classes_, index=df.index)\n",
    "\n",
    "one_hot_room_type = pd.DataFrame(mlb.fit_transform(df['ImageData.room_type_reso.results']),\n",
    "                                 columns=mlb.classes_, index=df.index)\n",
    "\n",
    "one_hot_heating = pd.DataFrame(mlb.fit_transform(df['Structure.Heating']),\n",
    "                                 columns=mlb.classes_, index=df.index)\n",
    "\n",
    "one_hot_cooling = pd.DataFrame(mlb.fit_transform(df['Structure.Cooling']),\n",
    "                                 columns=mlb.classes_, index=df.index)\n",
    "\n",
    "# Concatenate the result in the the original dataset\n",
    "one_hot_categorical = pd.concat([one_hot_features, one_hot_room_type, one_hot_heating,one_hot_cooling], axis=1)"
   ]
  },
  {
   "cell_type": "code",
   "execution_count": null,
   "metadata": {
    "colab": {
     "base_uri": "https://localhost:8080/"
    },
    "executionInfo": {
     "elapsed": 2,
     "status": "ok",
     "timestamp": 1731835830585,
     "user": {
      "displayName": "Alba Ungueti Saló",
      "userId": "05759735232587896184"
     },
     "user_tz": -60
    },
    "id": "gyTFaPegSTZa",
    "outputId": "b7635035-a384-4a92-e32d-034ad9ddd5fd"
   },
   "outputs": [],
   "source": [
    "one_hot_categorical.columns"
   ]
  },
  {
   "cell_type": "code",
   "execution_count": null,
   "metadata": {
    "executionInfo": {
     "elapsed": 411,
     "status": "ok",
     "timestamp": 1731835830995,
     "user": {
      "displayName": "Alba Ungueti Saló",
      "userId": "05759735232587896184"
     },
     "user_tz": -60
    },
    "id": "DofNiysZRiJv"
   },
   "outputs": [],
   "source": [
    "columns_to_keep = ['Appliances.BuiltInRefrigerator',\n",
    "       'Appliances.Cooktop', 'Appliances.DoubleOven', 'Appliances.GasCooktop',\n",
    "       'Appliances.Oven', 'Appliances.WineCooler', 'Heating.Fireplaces',\n",
    "       'InteriorOrRoomFeatures.BreakfastBar',\n",
    "       'InteriorOrRoomFeatures.BuiltInFeatures',\n",
    "       'InteriorOrRoomFeatures.DoubleVanity',\n",
    "       'InteriorOrRoomFeatures.KitchenIsland',\n",
    "       'InteriorOrRoomFeatures.TrayCeilings']\n",
    "\n",
    "one_hot_reso = one_hot_categorical[columns_to_keep]\n",
    "df_reso = pd.concat([df, one_hot_reso], axis=1)\n"
   ]
  },
  {
   "cell_type": "code",
   "execution_count": null,
   "metadata": {
    "executionInfo": {
     "elapsed": 5,
     "status": "ok",
     "timestamp": 1731835830996,
     "user": {
      "displayName": "Alba Ungueti Saló",
      "userId": "05759735232587896184"
     },
     "user_tz": -60
    },
    "id": "zxYOeJ-mTJSw"
   },
   "outputs": [],
   "source": [
    "encoder = OneHotEncoder()\n",
    "\n",
    "# Apply one-hot encoding \n",
    "one_hot = encoder.fit_transform(df[['Property.PropertyType']])\n",
    "one_hot = one_hot.toarray()\n",
    "\n",
    "encoded_property_type_df = pd.DataFrame(one_hot, columns=encoder.get_feature_names_out(['Property.PropertyType']))\n",
    "\n",
    "df_expanded_prev = pd.concat([df_reso, encoded_property_type_df], axis=1)\n",
    "df_expanded = df_expanded_prev.drop(columns=['Property.PropertyType', 'ImageData.features_reso.results', 'ImageData.room_type_reso.results','Structure.GarageSpaces'])"
   ]
  },
  {
   "cell_type": "code",
   "execution_count": null,
   "metadata": {
    "executionInfo": {
     "elapsed": 2844,
     "status": "ok",
     "timestamp": 1731835833836,
     "user": {
      "displayName": "Alba Ungueti Saló",
      "userId": "05759735232587896184"
     },
     "user_tz": -60
    },
    "id": "hW4OsvSVUJS9"
   },
   "outputs": [],
   "source": [
    "from sklearn.impute import KNNImputer\n",
    "import numpy as np\n",
    "\n",
    "train_data = pd.read_csv('cleaned_data_without_scaling.csv')\n",
    "\n",
    "columns_for_knn = list(encoded_property_type_df.columns) + ['Zip',\n",
    "                  'Structure.BathroomsFull', 'Structure.BathroomsHalf', 'Structure.BedroomsTotal',\n",
    "                  'Structure.Rooms.RoomsTotal', 'Median Household Income']\n",
    "\n",
    "knn_data = train_data[columns_for_knn]\n",
    "\n",
    "knn_imputer = KNNImputer(n_neighbors=5)\n",
    "\n",
    "# Train the imputer with train_data\n",
    "knn_imputer.fit(knn_data)\n",
    "\n",
    "# Apply the trained imputer to df_expanded\n",
    "imputed_data = knn_imputer.transform(df_expanded[columns_for_knn])\n",
    "\n",
    "# Create a DataFrame with the imputed data\n",
    "imputed_df = pd.DataFrame(imputed_data, columns=columns_for_knn, index=df_expanded.index)\n",
    "\n",
    "# Update df_expanded with the imputed values\n",
    "df_expanded[columns_for_knn] = imputed_df[columns_for_knn]\n"
   ]
  },
  {
   "cell_type": "code",
   "execution_count": null,
   "metadata": {
    "executionInfo": {
     "elapsed": 29573,
     "status": "ok",
     "timestamp": 1731835863406,
     "user": {
      "displayName": "Alba Ungueti Saló",
      "userId": "05759735232587896184"
     },
     "user_tz": -60
    },
    "id": "7dJaYNRQX3Md"
   },
   "outputs": [],
   "source": [
    "columns_for_knn = list(encoded_property_type_df.columns) + ['Median Household Income',\n",
    "                  'Structure.BathroomsFull', 'Structure.BathroomsHalf', 'Structure.BedroomsTotal',\n",
    "                  'Characteristics.SurfaceArea']\n",
    "\n",
    "knn_data = train_data[columns_for_knn]\n",
    "\n",
    "imputer2 = KNNImputer(n_neighbors=5)\n",
    "\n",
    "imputer2.fit(knn_data)\n",
    "\n",
    "# Apply the trained imputer to df_expanded\n",
    "imputed_data = imputer2.transform(df_expanded[columns_for_knn])\n",
    "\n",
    "# Create a DataFrame with the imputed data\n",
    "imputed_df = pd.DataFrame(imputed_data, columns=columns_for_knn, index=df_expanded.index)\n",
    "\n",
    "# Update df_expanded with the imputed values for 'Characteristics.SurfaceArea'\n",
    "df_expanded['Characteristics.SurfaceArea'] = imputed_df['Characteristics.SurfaceArea']"
   ]
  },
  {
   "cell_type": "code",
   "execution_count": null,
   "metadata": {
    "executionInfo": {
     "elapsed": 8,
     "status": "ok",
     "timestamp": 1731835863407,
     "user": {
      "displayName": "Alba Ungueti Saló",
      "userId": "05759735232587896184"
     },
     "user_tz": -60
    },
    "id": "xmtNLaG7Y4QM"
   },
   "outputs": [],
   "source": [
    "df_expanded= df_expanded.drop(columns=['Listing.Dates.CloseDate','Zip','Structure.Cooling', 'Structure.Heating'])\n"
   ]
  },
  {
   "cell_type": "code",
   "execution_count": null,
   "metadata": {
    "colab": {
     "base_uri": "https://localhost:8080/"
    },
    "executionInfo": {
     "elapsed": 6,
     "status": "ok",
     "timestamp": 1731835863407,
     "user": {
      "displayName": "Alba Ungueti Saló",
      "userId": "05759735232587896184"
     },
     "user_tz": -60
    },
    "id": "1eLC0uZpQ8Mc",
    "outputId": "53fe1854-6b28-4ffc-f966-3a0552973105"
   },
   "outputs": [],
   "source": [
    "nan_count = df_expanded.isna().sum()\n",
    "nan_count\n",
    "df_expanded.shape"
   ]
  },
  {
   "cell_type": "code",
   "execution_count": null,
   "metadata": {
    "executionInfo": {
     "elapsed": 476,
     "status": "ok",
     "timestamp": 1731835863879,
     "user": {
      "displayName": "Alba Ungueti Saló",
      "userId": "05759735232587896184"
     },
     "user_tz": -60
    },
    "id": "nt-j1FAOYfvA"
   },
   "outputs": [],
   "source": [
    "df_expanded.to_csv('nanfree_test.csv', index=False)"
   ]
  }
 ],
 "metadata": {
  "colab": {
   "authorship_tag": "ABX9TyPKHVylUUO05E27QwA5tjDg",
   "provenance": []
  },
  "kernelspec": {
   "display_name": "Python 3",
   "name": "python3"
  },
  "language_info": {
   "name": "python"
  }
 },
 "nbformat": 4,
 "nbformat_minor": 0
}
