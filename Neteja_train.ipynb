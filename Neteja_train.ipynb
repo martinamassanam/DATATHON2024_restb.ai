{
 "cells": [
  {
   "cell_type": "code",
   "execution_count": null,
   "metadata": {
    "id": "h01Q_JXDUJhH"
   },
   "outputs": [],
   "source": [
    "import pandas as pd"
   ]
  },
  {
   "cell_type": "code",
   "execution_count": null,
   "metadata": {
    "colab": {
     "base_uri": "https://localhost:8080/"
    },
    "executionInfo": {
     "elapsed": 3640,
     "status": "ok",
     "timestamp": 1731838852881,
     "user": {
      "displayName": "Raquel Jolis Carné",
      "userId": "12239909812153990759"
     },
     "user_tz": -60
    },
    "id": "i4ujJjTap5K0",
    "outputId": "96e27d17-7d46-4d47-ebdd-4c7fdce6371d"
   },
   "outputs": [],
   "source": [
    "!pip install dython"
   ]
  },
  {
   "cell_type": "code",
   "execution_count": null,
   "metadata": {
    "colab": {
     "base_uri": "https://localhost:8080/"
    },
    "executionInfo": {
     "elapsed": 2555,
     "status": "ok",
     "timestamp": 1731838855432,
     "user": {
      "displayName": "Raquel Jolis Carné",
      "userId": "12239909812153990759"
     },
     "user_tz": -60
    },
    "id": "c3IQvpHWUaRV",
    "outputId": "eee9b4c9-92e0-4de3-d2a0-c5d993d3f8d2"
   },
   "outputs": [],
   "source": [
    "train_data = pd.read_csv('train_data.txt')\n",
    "train_data = train_data.rename(columns={'Location.Address.PostalCode': 'Zip'})\n",
    "train_data['Zip'] = train_data['Zip'].astype(str).str[:5].astype(int)"
   ]
  },
  {
   "cell_type": "code",
   "execution_count": null,
   "metadata": {
    "colab": {
     "base_uri": "https://localhost:8080/",
     "height": 444
    },
    "executionInfo": {
     "elapsed": 409,
     "status": "ok",
     "timestamp": 1731838855837,
     "user": {
      "displayName": "Raquel Jolis Carné",
      "userId": "12239909812153990759"
     },
     "user_tz": -60
    },
    "id": "76QG0QWgWxoj",
    "outputId": "5a3f93fc-4254-4432-edb4-f2b6e8478385"
   },
   "outputs": [],
   "source": [
    "df_income = pd.read_excel('income.xlsx')\n",
    "df_income"
   ]
  },
  {
   "cell_type": "code",
   "execution_count": null,
   "metadata": {
    "colab": {
     "base_uri": "https://localhost:8080/"
    },
    "executionInfo": {
     "elapsed": 19,
     "status": "ok",
     "timestamp": 1731838855837,
     "user": {
      "displayName": "Raquel Jolis Carné",
      "userId": "12239909812153990759"
     },
     "user_tz": -60
    },
    "id": "9nufjaQVW-Yi",
    "outputId": "d56044d9-824b-4022-c70e-df226e0ef281"
   },
   "outputs": [],
   "source": [
    "print(df_income.columns)"
   ]
  },
  {
   "cell_type": "code",
   "execution_count": null,
   "metadata": {
    "id": "lFtId1G9VKqz"
   },
   "outputs": [],
   "source": [
    "df_income['Zip / Population'] = df_income['Zip / Population'].str[:5]\n",
    "df_income= df_income.drop(columns=['Rank'])"
   ]
  },
  {
   "cell_type": "code",
   "execution_count": null,
   "metadata": {
    "id": "3wKg8ZEeYJh7"
   },
   "outputs": [],
   "source": [
    "df_income = df_income.rename(columns={'Zip / Population': 'Zip'})\n",
    "df_income = df_income.rename(columns={'Median Household Income ▼': 'Median Household Income'})\n",
    "df_income['Zip'] = df_income['Zip'].astype(int)"
   ]
  },
  {
   "cell_type": "code",
   "execution_count": null,
   "metadata": {
    "id": "yQCSN3D4Yryn"
   },
   "outputs": [],
   "source": [
    "df_income['Median Household Income'] = (\n",
    "    df_income['Median Household Income']\n",
    "    .str.replace('$', '', regex=False)\n",
    "    .str.replace(',', '', regex=False)\n",
    "    .astype(int)  )"
   ]
  },
  {
   "cell_type": "code",
   "execution_count": null,
   "metadata": {
    "colab": {
     "base_uri": "https://localhost:8080/",
     "height": 444
    },
    "executionInfo": {
     "elapsed": 14,
     "status": "ok",
     "timestamp": 1731838855838,
     "user": {
      "displayName": "Raquel Jolis Carné",
      "userId": "12239909812153990759"
     },
     "user_tz": -60
    },
    "id": "sehaz_JnY3ab",
    "outputId": "45e46d99-82f7-47e0-d5b6-0688b6095709"
   },
   "outputs": [],
   "source": [
    "df_income"
   ]
  },
  {
   "cell_type": "code",
   "execution_count": null,
   "metadata": {
    "id": "ItaRuh9SZia2"
   },
   "outputs": [],
   "source": [
    "train_data = pd.merge(train_data, df_income, on='Zip', how='left')\n",
    "train_data.to_csv('data_with_income.csv', index=False)"
   ]
  },
  {
   "cell_type": "markdown",
   "metadata": {
    "id": "NvMF80_cfIgn"
   },
   "source": [
    "# Preprocessing"
   ]
  },
  {
   "cell_type": "code",
   "execution_count": null,
   "metadata": {
    "id": "SNz5kmwofL1s"
   },
   "outputs": [],
   "source": [
    "#%matplotlib notebook\n",
    "import numpy as np\n",
    "import matplotlib.pyplot as plt\n",
    "import seaborn as sn\n",
    "import pandas as pd\n",
    "from collections import Counter\n",
    "from IPython.core.interactiveshell import InteractiveShell\n",
    "InteractiveShell.ast_node_interactivity = \"all\"\n",
    "pd.set_option('display.precision', 3)"
   ]
  },
  {
   "cell_type": "code",
   "execution_count": null,
   "metadata": {
    "id": "7w0hU694fQer"
   },
   "outputs": [],
   "source": [
    "# extra imports\n",
    "from pandas import read_csv\n",
    "from sklearn.neighbors import KNeighborsClassifier\n",
    "from sklearn.neighbors import LocalOutlierFactor\n",
    "from sklearn import preprocessing\n",
    "from pandas.plotting import scatter_matrix\n",
    "from scipy.stats import boxcox\n",
    "from statsmodels.genmod.generalized_linear_model import GLM\n"
   ]
  },
  {
   "cell_type": "markdown",
   "metadata": {
    "id": "YHzB4iJSfViF"
   },
   "source": [
    "# BASIC INSPECTION OF THE DATASET"
   ]
  },
  {
   "cell_type": "code",
   "execution_count": null,
   "metadata": {
    "colab": {
     "base_uri": "https://localhost:8080/",
     "height": 384
    },
    "executionInfo": {
     "elapsed": 457,
     "status": "ok",
     "timestamp": 1731838869396,
     "user": {
      "displayName": "Raquel Jolis Carné",
      "userId": "12239909812153990759"
     },
     "user_tz": -60
    },
    "id": "tO6h9ZO6fRAd",
    "outputId": "0c71a815-92d9-46e7-ee7e-f454a535bb5c"
   },
   "outputs": [],
   "source": [
    "train_data.describe()"
   ]
  },
  {
   "cell_type": "code",
   "execution_count": null,
   "metadata": {
    "colab": {
     "base_uri": "https://localhost:8080/"
    },
    "executionInfo": {
     "elapsed": 12,
     "status": "ok",
     "timestamp": 1731838869396,
     "user": {
      "displayName": "Raquel Jolis Carné",
      "userId": "12239909812153990759"
     },
     "user_tz": -60
    },
    "id": "_U3AJaVQgzgw",
    "outputId": "cf7e1834-41e1-4e66-c56b-4dc99e4418a1"
   },
   "outputs": [],
   "source": [
    "train_data.shape"
   ]
  },
  {
   "cell_type": "code",
   "execution_count": null,
   "metadata": {
    "colab": {
     "base_uri": "https://localhost:8080/",
     "height": 696
    },
    "executionInfo": {
     "elapsed": 525,
     "status": "ok",
     "timestamp": 1731838869913,
     "user": {
      "displayName": "Raquel Jolis Carné",
      "userId": "12239909812153990759"
     },
     "user_tz": -60
    },
    "id": "Bj3zT9hHfcGd",
    "outputId": "e72f59f1-30a2-4b24-d878-0559537f76f6"
   },
   "outputs": [],
   "source": [
    "train_data['Median Household Income'].hist(figsize=(8,8));"
   ]
  },
  {
   "cell_type": "code",
   "execution_count": null,
   "metadata": {
    "colab": {
     "base_uri": "https://localhost:8080/",
     "height": 696
    },
    "executionInfo": {
     "elapsed": 399,
     "status": "ok",
     "timestamp": 1731838870309,
     "user": {
      "displayName": "Raquel Jolis Carné",
      "userId": "12239909812153990759"
     },
     "user_tz": -60
    },
    "id": "L3qlV9Mhfzxe",
    "outputId": "f9cda5bd-96c5-42eb-b595-222742cfa29a"
   },
   "outputs": [],
   "source": [
    "train_data['Median Household Income'][(train_data['Median Household Income']!=99999999)&\n",
    "              (train_data['Median Household Income']!=0)].hist(bins=15,figsize=(8,8));"
   ]
  },
  {
   "cell_type": "code",
   "execution_count": null,
   "metadata": {
    "colab": {
     "base_uri": "https://localhost:8080/",
     "height": 355
    },
    "executionInfo": {
     "elapsed": 17,
     "status": "ok",
     "timestamp": 1731838870309,
     "user": {
      "displayName": "Raquel Jolis Carné",
      "userId": "12239909812153990759"
     },
     "user_tz": -60
    },
    "id": "2023Vvuef8xF",
    "outputId": "b31e804b-6296-4924-a3e6-ac9eb0eea03b"
   },
   "outputs": [],
   "source": [
    "train_data['Median Household Income'].describe()"
   ]
  },
  {
   "cell_type": "code",
   "execution_count": null,
   "metadata": {
    "colab": {
     "base_uri": "https://localhost:8080/",
     "height": 355
    },
    "executionInfo": {
     "elapsed": 15,
     "status": "ok",
     "timestamp": 1731838870309,
     "user": {
      "displayName": "Raquel Jolis Carné",
      "userId": "12239909812153990759"
     },
     "user_tz": -60
    },
    "id": "3Hwp7-EyoYSM",
    "outputId": "47b13919-5e58-4609-92db-7b3c45ad65f9"
   },
   "outputs": [],
   "source": [
    "train_data['Listing.Price.ClosePrice'].describe()"
   ]
  },
  {
   "cell_type": "markdown",
   "metadata": {
    "id": "B8yitNLIZwuR"
   },
   "source": [
    "Preprocessing"
   ]
  },
  {
   "cell_type": "code",
   "execution_count": null,
   "metadata": {
    "colab": {
     "base_uri": "https://localhost:8080/",
     "height": 1000
    },
    "executionInfo": {
     "elapsed": 14819,
     "status": "ok",
     "timestamp": 1731838885114,
     "user": {
      "displayName": "Raquel Jolis Carné",
      "userId": "12239909812153990759"
     },
     "user_tz": -60
    },
    "id": "MO41m0c8pXVQ",
    "outputId": "f889b0aa-b546-46d6-9982-29dc86f96b16"
   },
   "outputs": [],
   "source": [
    "from dython.nominal import associations\n",
    "from dython.nominal import correlation_ratio\n",
    "import seaborn as sns\n",
    "import matplotlib.pyplot as plt\n",
    "\n",
    "\n",
    "numerical_columns = [\n",
    "    \t\"ImageData.c1c6.summary.bathroom\",\n",
    "    \t\"ImageData.c1c6.summary.exterior\",\n",
    "    \t\"ImageData.c1c6.summary.interior\",\n",
    "    \t\"ImageData.c1c6.summary.kitchen\",\n",
    "    \t\"ImageData.c1c6.summary.property\",\n",
    "    \t\"ImageData.q1q6.summary.bathroom\",\n",
    "    \t\"ImageData.q1q6.summary.exterior\",\n",
    "    \t\"ImageData.q1q6.summary.interior\",\n",
    "    \t\"ImageData.q1q6.summary.kitchen\",\n",
    "    \t\"ImageData.q1q6.summary.property\",\n",
    "    \t\"ImageData.style.stories.summary.label\",\n",
    "    \t\"Listing.Price.ClosePrice\",\n",
    "    \t\"Location.GIS.Latitude\",\n",
    "    \t\"Location.GIS.Longitude\",\n",
    "    \t\"Structure.BathroomsFull\",\n",
    "    \t\"Structure.BathroomsHalf\",\n",
    "    \t\"Structure.BedroomsTotal\",\n",
    "    \t\"Structure.FireplacesTotal\",\n",
    "    \t\"Structure.Parking\",\n",
    "    \t\"Structure.Rooms.RoomsTotal\",\n",
    "    \t\"Structure.YearBuilt\",\n",
    "\t\"Median Household Income\",\n",
    "\t    'Characteristics.SurfaceArea'\n",
    "\t]\n",
    "\n",
    "associations_result = associations(train_data[numerical_columns], nominal_columns='auto', plot=False)\n",
    "\n",
    "correlation_matrix = associations_result['corr']\n",
    "\n",
    "plt.figure(figsize=(10, 8))\n",
    "sns.heatmap(correlation_matrix, annot=True, cmap='coolwarm', fmt='.2f')\n",
    "plt.title(\"Correlation Heatmap\")\n",
    "plt.show()"
   ]
  },
  {
   "cell_type": "code",
   "execution_count": null,
   "metadata": {
    "colab": {
     "base_uri": "https://localhost:8080/",
     "height": 377
    },
    "executionInfo": {
     "elapsed": 33,
     "status": "ok",
     "timestamp": 1731838885115,
     "user": {
      "displayName": "Raquel Jolis Carné",
      "userId": "12239909812153990759"
     },
     "user_tz": -60
    },
    "id": "8hxSPetXsa0I",
    "outputId": "b943db1f-3cfd-4b9d-e5d5-adb080a9160f"
   },
   "outputs": [],
   "source": [
    "train_data = train_data.drop([\"ImageData.c1c6.summary.bathroom\", \"ImageData.c1c6.summary.exterior\", \"ImageData.c1c6.summary.interior\",\t\"ImageData.c1c6.summary.kitchen\",\n",
    "    \t\"ImageData.q1q6.summary.bathroom\", \"ImageData.q1q6.summary.exterior\", \"ImageData.q1q6.summary.interior\", \"ImageData.q1q6.summary.kitchen\",\n",
    "    \t\"Location.GIS.Latitude\", \"Location.GIS.Longitude\", \"Characteristics.LotSizeSquareFeet\", \"Structure.GarageSpaces\", \"Structure.LivingArea\",\n",
    "\t\t\t\"Structure.ParkingFeatures\", \"Structure.YearBuilt\", 'Location.Address.StreetSuffix'], axis=1)\n",
    "\n",
    "train_data.head()"
   ]
  },
  {
   "cell_type": "code",
   "execution_count": null,
   "metadata": {
    "id": "2EqX6UzXc_t6"
   },
   "outputs": [],
   "source": [
    "train_data['ImageData.c1c6.summary.property'] = train_data['ImageData.c1c6.summary.property'].fillna(train_data['ImageData.c1c6.summary.property'].mean())\n",
    "train_data['ImageData.q1q6.summary.property'] = train_data['ImageData.q1q6.summary.property'].fillna(train_data['ImageData.q1q6.summary.property'].mean())\n",
    "train_data['Structure.Rooms.RoomsTotal'] = train_data['Structure.Rooms.RoomsTotal'].fillna(train_data['Structure.Rooms.RoomsTotal'].mean())"
   ]
  },
  {
   "cell_type": "code",
   "execution_count": null,
   "metadata": {
    "colab": {
     "base_uri": "https://localhost:8080/",
     "height": 418
    },
    "executionInfo": {
     "elapsed": 22,
     "status": "ok",
     "timestamp": 1731838885115,
     "user": {
      "displayName": "Raquel Jolis Carné",
      "userId": "12239909812153990759"
     },
     "user_tz": -60
    },
    "id": "LWMFoZ7TtMUS",
    "outputId": "57fb5347-676a-44c8-8ed7-8d97414f4387"
   },
   "outputs": [],
   "source": [
    "train_data['ImageData.features_reso.results'].head(10)"
   ]
  },
  {
   "cell_type": "markdown",
   "metadata": {
    "id": "rqg_k5IubGds"
   },
   "source": [
    "# Preprocessing "
   ]
  },
  {
   "cell_type": "code",
   "execution_count": null,
   "metadata": {
    "id": "KzXwPdzgDNKj"
   },
   "outputs": [],
   "source": [
    "from sklearn.preprocessing import MultiLabelBinarizer"
   ]
  },
  {
   "cell_type": "code",
   "execution_count": null,
   "metadata": {
    "colab": {
     "base_uri": "https://localhost:8080/"
    },
    "executionInfo": {
     "elapsed": 13186,
     "status": "ok",
     "timestamp": 1731838898285,
     "user": {
      "displayName": "Raquel Jolis Carné",
      "userId": "12239909812153990759"
     },
     "user_tz": -60
    },
    "id": "m0yFETdcDOFr",
    "outputId": "c1e529e2-a735-46e1-f166-c97e6b8f82dc"
   },
   "outputs": [],
   "source": [
    "import ast\n",
    "\n",
    "# List of the categorical columns that are structure as a list of strings\n",
    "columns_to_transform = ['ImageData.features_reso.results', 'ImageData.room_type_reso.results',\n",
    "                        'Structure.Heating', 'Structure.Cooling']\n",
    "\n",
    "# Separate each list\n",
    "for col in columns_to_transform:\n",
    "    train_data[col] = [\n",
    "        ast.literal_eval(sublist) if isinstance(sublist, str) else []\n",
    "        for sublist in train_data[col]\n",
    "    ]\n",
    "\n",
    "print(train_data[columns_to_transform].head())"
   ]
  },
  {
   "cell_type": "code",
   "execution_count": null,
   "metadata": {
    "colab": {
     "base_uri": "https://localhost:8080/"
    },
    "executionInfo": {
     "elapsed": 2465,
     "status": "ok",
     "timestamp": 1731838900742,
     "user": {
      "displayName": "Raquel Jolis Carné",
      "userId": "12239909812153990759"
     },
     "user_tz": -60
    },
    "id": "gk0FRayoE5tF",
    "outputId": "e9c7bd1c-0eba-4aa7-9fc7-3ce6559ac070"
   },
   "outputs": [],
   "source": [
    "\n",
    "mlb = MultiLabelBinarizer()\n",
    "\n",
    "# Apply one-hot encoding to each column and concatenate the results\n",
    "one_hot_features = pd.DataFrame(mlb.fit_transform(train_data['ImageData.features_reso.results']),\n",
    "                                 columns=mlb.classes_, index=train_data.index)\n",
    "\n",
    "one_hot_room_type = pd.DataFrame(mlb.fit_transform(train_data['ImageData.room_type_reso.results']),\n",
    "                                 columns=mlb.classes_, index=train_data.index)\n",
    "\n",
    "one_hot_heating = pd.DataFrame(mlb.fit_transform(train_data['Structure.Heating']),\n",
    "                                 columns=mlb.classes_, index=train_data.index)\n",
    "\n",
    "one_hot_cooling = pd.DataFrame(mlb.fit_transform(train_data['Structure.Cooling']),\n",
    "                                 columns=mlb.classes_, index=train_data.index)\n",
    "\n",
    "# Concatenate the result in the the original dataset\n",
    "one_hot_categorical = pd.concat([one_hot_features, one_hot_room_type, one_hot_heating,one_hot_cooling], axis=1)\n",
    "\n",
    "print(train_data.head())"
   ]
  },
  {
   "cell_type": "markdown",
   "metadata": {
    "id": "T0sILfM0a-hL"
   },
   "source": [
    "Compare the correlation of each feature with the target Close Price"
   ]
  },
  {
   "cell_type": "code",
   "execution_count": null,
   "metadata": {
    "colab": {
     "base_uri": "https://localhost:8080/"
    },
    "executionInfo": {
     "elapsed": 665,
     "status": "ok",
     "timestamp": 1731838901397,
     "user": {
      "displayName": "Raquel Jolis Carné",
      "userId": "12239909812153990759"
     },
     "user_tz": -60
    },
    "id": "HU-WykCYGSbd",
    "outputId": "7e6248d4-f7bf-43f5-9663-0c8a2e63c566"
   },
   "outputs": [],
   "source": [
    "close_price = train_data['Listing.Price.ClosePrice']\n",
    "\n",
    "# Computes the correlation with the one-hot columns and 'Listing.Price.ClosePrice'\n",
    "correlation_with_close_price = one_hot_categorical.corrwith(close_price)\n",
    "\n",
    "print(correlation_with_close_price)"
   ]
  },
  {
   "cell_type": "code",
   "execution_count": null,
   "metadata": {
    "colab": {
     "base_uri": "https://localhost:8080/"
    },
    "executionInfo": {
     "elapsed": 757,
     "status": "ok",
     "timestamp": 1731838902150,
     "user": {
      "displayName": "Raquel Jolis Carné",
      "userId": "12239909812153990759"
     },
     "user_tz": -60
    },
    "id": "rzU3cnRtG8cJ",
    "outputId": "b115deea-17d7-4e19-b2c2-fd46e885e845"
   },
   "outputs": [],
   "source": [
    "correlation_with_close_price = one_hot_categorical.corrwith(train_data['Listing.Price.ClosePrice'])\n",
    "\n",
    "# Filter with the features with correlation greater than 0.2\n",
    "columns_to_keep = correlation_with_close_price[correlation_with_close_price.abs() > 0.2].index\n",
    "\n",
    "df_one_hot_filtered = one_hot_categorical[columns_to_keep]\n",
    "\n",
    "print(df_one_hot_filtered.shape)\n",
    "\n",
    "train_data = pd.concat([train_data, df_one_hot_filtered], axis=1)"
   ]
  },
  {
   "cell_type": "code",
   "execution_count": null,
   "metadata": {
    "id": "KUFTYgXXHnes"
   },
   "outputs": [],
   "source": [
    "from sklearn.preprocessing import OneHotEncoder\n",
    "\n",
    "encoder = OneHotEncoder()\n",
    "\n",
    "# Apply one-hot encoding \n",
    "one_hot = encoder.fit_transform(train_data[['Property.PropertyType']])\n",
    "one_hot = one_hot.toarray()\n",
    "\n",
    "encoded_property_type_df = pd.DataFrame(one_hot, columns=encoder.get_feature_names_out(['Property.PropertyType']))\n",
    "\n",
    "train_data = pd.concat([train_data, encoded_property_type_df], axis=1)\n",
    "train_data = train_data.drop(columns=['Property.PropertyType', 'zoned', 'zoned', 'zoned', 'zoned'])"
   ]
  },
  {
   "cell_type": "code",
   "execution_count": null,
   "metadata": {
    "id": "gM8ZM_n8fC93"
   },
   "outputs": [],
   "source": [
    "from sklearn.impute import KNNImputer\n",
    "\n",
    "# Select the columns that we consider important to impute the Median Household income\n",
    "columns_for_knn = list(encoded_property_type_df.columns) + ['Zip', 'Listing.Price.ClosePrice',\n",
    "                  'Structure.BathroomsFull', 'Structure.BathroomsHalf', 'Structure.BedroomsTotal',\n",
    "                  'Structure.Rooms.RoomsTotal', 'Median Household Income']\n",
    "\n",
    "knn_data = train_data[columns_for_knn]\n",
    "\n",
    "knn_imputer = KNNImputer(n_neighbors=5)\n",
    "\n",
    "# Imputing the missing values\n",
    "imputed_data = knn_imputer.fit_transform(knn_data)\n",
    "\n",
    "df_imputed = pd.DataFrame(imputed_data, columns=columns_for_knn, index=train_data.index)\n",
    "\n",
    "train_data['Median Household Income'] = df_imputed['Median Household Income']"
   ]
  },
  {
   "cell_type": "code",
   "execution_count": null,
   "metadata": {
    "colab": {
     "base_uri": "https://localhost:8080/",
     "height": 342
    },
    "executionInfo": {
     "elapsed": 133709,
     "status": "ok",
     "timestamp": 1731839037911,
     "user": {
      "displayName": "Raquel Jolis Carné",
      "userId": "12239909812153990759"
     },
     "user_tz": -60
    },
    "id": "S3e5HmsMUjdS",
    "outputId": "54ee56d6-73bd-4736-f006-e5ca082c04c1"
   },
   "outputs": [],
   "source": [
    "# Select the columns that we consider important so impute the SurfaceArea\n",
    "columns_for_knn = list(encoded_property_type_df.columns) + ['Median Household Income', 'Listing.Price.ClosePrice',\n",
    "                  'Structure.BathroomsFull', 'Structure.BathroomsHalf', 'Structure.BedroomsTotal',\n",
    "                  'Characteristics.SurfaceArea']\n",
    "\n",
    "knn_data = train_data[columns_for_knn]\n",
    "\n",
    "knn_imputer = KNNImputer(n_neighbors=5)\n",
    "\n",
    "# Imputing the missing values\n",
    "imputed_data = knn_imputer.fit_transform(knn_data)\n",
    "\n",
    "df_imputed = pd.DataFrame(imputed_data, columns=columns_for_knn, index=train_data.index)\n",
    "\n",
    "train_data['Characteristics.SurfaceArea'] = df_imputed['Characteristics.SurfaceArea']\n",
    "\n",
    "df_commercial_sale = train_data[train_data['Property.PropertyType_commercial sale'] == 1]\n",
    "df_commercial_sale.head()"
   ]
  },
  {
   "cell_type": "code",
   "execution_count": null,
   "metadata": {
    "id": "D1JTc2dPzvvC"
   },
   "outputs": [],
   "source": [
    "def non_outliers_using_IQR(col_name, X):\n",
    "    # Calculate IQR boundaries\n",
    "    Q1 = X[col_name].quantile(0.10)\n",
    "    Q3 = X[col_name].quantile(0.90)\n",
    "    IQR = Q3 - Q1\n",
    "\n",
    "    # Identify non-outliers\n",
    "    non_outliers_mask = (X[col_name] >= (Q1 - 1.5 * IQR)) & (X[col_name] <= (Q3 + 1.5 * IQR))\n",
    "\n",
    "    # Return only rows without outliers\n",
    "    return X[non_outliers_mask]\n",
    "\n",
    "# List of columns to check for outliers\n",
    "columns_to_check = [\n",
    "    \"Listing.Price.ClosePrice\",\n",
    "    \"Structure.BathroomsFull\",\n",
    "    \"Characteristics.SurfaceArea\",\n",
    "]\n",
    "\n",
    "# Filter rows that are non-outliers for all specified columns\n",
    "for col in columns_to_check:\n",
    "    train_data = non_outliers_using_IQR(col, train_data)"
   ]
  },
  {
   "cell_type": "code",
   "execution_count": null,
   "metadata": {
    "colab": {
     "base_uri": "https://localhost:8080/"
    },
    "executionInfo": {
     "elapsed": 221,
     "status": "ok",
     "timestamp": 1731839534735,
     "user": {
      "displayName": "Martina Massana Massip",
      "userId": "02156704842055953071"
     },
     "user_tz": -60
    },
    "id": "1KZGE6QYfw8p",
    "outputId": "cf5de5a9-6af0-4295-d0df-193642ce5a8d"
   },
   "outputs": [],
   "source": [
    "train_data = train_data.drop(columns = ['ImageData.room_type_reso.results', 'ImageData.features_reso.results', 'Listing.Dates.CloseDate',\n",
    "                                        'Location.Address.City', 'Zip', 'Structure.Heating', 'Structure.Cooling'])\n",
    "print(train_data.columns)"
   ]
  },
  {
   "cell_type": "code",
   "execution_count": null,
   "metadata": {
    "id": "jBJ8ZiuLbYHA"
   },
   "outputs": [],
   "source": [
    "train_data.to_csv('cleaned_data_without_scaling.csv', index=False)"
   ]
  }
 ],
 "metadata": {
  "colab": {
   "provenance": []
  },
  "kernelspec": {
   "display_name": "Python 3",
   "name": "python3"
  },
  "language_info": {
   "name": "python"
  }
 },
 "nbformat": 4,
 "nbformat_minor": 0
}
