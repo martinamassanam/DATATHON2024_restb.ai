{
 "cells": [
  {
   "cell_type": "code",
   "execution_count": null,
   "metadata": {
    "id": "wxjnnojbUea9"
   },
   "outputs": [],
   "source": [
    "import pandas as pd\n",
    "\n",
    "# Final preprocessing\n",
    "from sklearn.preprocessing import MinMaxScaler\n",
    "from sklearn.model_selection import train_test_split\n",
    "\n",
    "# Models\n",
    "from sklearn.linear_model import LinearRegression, RidgeCV, LassoCV\n",
    "from sklearn.neighbors import KNeighborsRegressor\n",
    "from sklearn.tree import DecisionTreeRegressor\n",
    "from sklearn.ensemble import RandomForestRegressor, VotingRegressor, GradientBoostingRegressor, StackingRegressor, ExtraTreesRegressor\n",
    "from sklearn.neural_network import MLPRegressor\n",
    "\n",
    "# Metrics\n",
    "from sklearn.metrics import mean_squared_error, r2_score, mean_absolute_error"
   ]
  },
  {
   "cell_type": "markdown",
   "metadata": {
    "id": "9w4-uW8YAo3n"
   },
   "source": [
    "## MODELLING"
   ]
  },
  {
   "cell_type": "code",
   "execution_count": null,
   "metadata": {
    "colab": {
     "base_uri": "https://localhost:8080/",
     "height": 273
    },
    "id": "e16gwxedAwt8",
    "outputId": "22437bfc-01bb-43b9-a2e7-db73fc24f90f"
   },
   "outputs": [],
   "source": [
    "clean_data = pd.read_csv('cleaned_data_without_scaling.csv')\n",
    "clean_data.head()"
   ]
  },
  {
   "cell_type": "code",
   "execution_count": null,
   "metadata": {
    "id": "im5NGn7VAtQC"
   },
   "outputs": [],
   "source": [
    "X = clean_data.loc[:, clean_data.columns != 'Listing.Price.ClosePrice']\n",
    "y = clean_data['Listing.Price.ClosePrice']\n",
    "\n",
    "X_train, X_val, y_train, y_val = train_test_split(X, y, test_size=0.33, random_state=42)"
   ]
  },
  {
   "cell_type": "code",
   "execution_count": null,
   "metadata": {
    "colab": {
     "base_uri": "https://localhost:8080/"
    },
    "id": "mGqS73hAe1DH",
    "outputId": "a6939d8f-f78e-477c-b6c4-c05d9e1c383b"
   },
   "outputs": [],
   "source": [
    "print(clean_data.dtypes)"
   ]
  },
  {
   "cell_type": "code",
   "execution_count": null,
   "metadata": {
    "colab": {
     "base_uri": "https://localhost:8080/",
     "height": 447
    },
    "id": "tomWL2aufP1i",
    "outputId": "3aa5775a-3a38-451e-81ed-463da3f5c039"
   },
   "outputs": [],
   "source": [
    "print(X_train.shape)\n",
    "X_train.head(10)"
   ]
  },
  {
   "cell_type": "code",
   "execution_count": null,
   "metadata": {
    "id": "IrFECMAxOh5x"
   },
   "outputs": [],
   "source": [
    "def accuracy_metrics(y_true, y_pred):\n",
    "    r2 = r2_score(y_true,y_pred)\n",
    "    mse = mean_squared_error(y_true,y_pred)\n",
    "    mae = mean_absolute_error(y_true,y_pred)\n",
    "    return [r2, mse, mae]\n",
    "metric_results_train = pd.DataFrame(columns=['R2', 'MSE', 'MAE'])\n",
    "metric_results_val = pd.DataFrame(columns=['R2', 'MSE', 'MAE'])\n",
    "metric_results_test = pd.DataFrame(columns=['R2', 'MSE', 'MAE'])"
   ]
  },
  {
   "cell_type": "markdown",
   "metadata": {
    "id": "lDSbkPaLMs1P"
   },
   "source": [
    "***\n",
    "\n",
    "### LINEAR REGRESSION"
   ]
  },
  {
   "cell_type": "code",
   "execution_count": null,
   "metadata": {
    "id": "84dJ-CKHNDS5"
   },
   "outputs": [],
   "source": [
    "lr = LinearRegression().fit(X_train, y_train)\n",
    "\n",
    "metric_results_train.loc['LR',:] = accuracy_metrics(y_train, lr.predict(X_train))\n",
    "metric_results_val.loc['LR',:] = accuracy_metrics(y_val, lr.predict(X_val))"
   ]
  },
  {
   "cell_type": "code",
   "execution_count": null,
   "metadata": {
    "id": "1Ax6c32vTBGS"
   },
   "outputs": [],
   "source": [
    "lambdas = [0.001, 0.01, 0.1, 1, 10, 100, 1000]"
   ]
  },
  {
   "cell_type": "markdown",
   "metadata": {
    "id": "c5Duw8TkSiGK"
   },
   "source": [
    "### LASSO REGRESSION"
   ]
  },
  {
   "cell_type": "code",
   "execution_count": null,
   "metadata": {
    "id": "83qCGvVuSLxy"
   },
   "outputs": [],
   "source": [
    "lasso_cv = LassoCV(alphas = lambdas, cv = 5).fit(X_train, y_train)\n",
    "\n",
    "metric_results_train.loc['LASSO-CV',:] = accuracy_metrics(y_train, lasso_cv.predict(X_train))\n",
    "metric_results_val.loc['LASSO-CV',:] = accuracy_metrics(y_val, lasso_cv.predict(X_val))"
   ]
  },
  {
   "cell_type": "code",
   "execution_count": null,
   "metadata": {
    "colab": {
     "base_uri": "https://localhost:8080/",
     "height": 125
    },
    "id": "oexQOf7UdSMT",
    "outputId": "fd187778-aabe-4b3d-ce27-ff883e4c0028"
   },
   "outputs": [],
   "source": [
    "metric_results_val.sort_values(by = 'R2', ascending = False)\n",
    "metric_results_val"
   ]
  },
  {
   "cell_type": "markdown",
   "metadata": {
    "id": "gy3R7z5kS63a"
   },
   "source": [
    "### RIDGE REGRESSION"
   ]
  },
  {
   "cell_type": "code",
   "execution_count": null,
   "metadata": {
    "colab": {
     "base_uri": "https://localhost:8080/"
    },
    "id": "EnVB9YBCS7El",
    "outputId": "e85f2825-997c-4002-8b8b-00f9821ddcde"
   },
   "outputs": [],
   "source": [
    "ridge_cv = RidgeCV(alphas = lambdas, cv = 5).fit(X_train, y_train)\n",
    "\n",
    "metric_results_train.loc['RIDGE-CV',:] = accuracy_metrics(y_train, ridge_cv.predict(X_train))\n",
    "metric_results_val.loc['RIDGE-CV',:] = accuracy_metrics(y_val, ridge_cv.predict(X_val))"
   ]
  },
  {
   "cell_type": "code",
   "execution_count": null,
   "metadata": {
    "colab": {
     "base_uri": "https://localhost:8080/",
     "height": 143
    },
    "id": "uPRzaxmTddmD",
    "outputId": "eeb3a3bf-6eb2-4071-b558-1186ffbd2f58"
   },
   "outputs": [],
   "source": [
    "metric_results_val.sort_values(by = 'R2', ascending = False)\n",
    "metric_results_val"
   ]
  },
  {
   "cell_type": "markdown",
   "metadata": {
    "id": "K61dgnKbTZbN"
   },
   "source": [
    "### k-NN REGRESSION"
   ]
  },
  {
   "cell_type": "code",
   "execution_count": null,
   "metadata": {
    "colab": {
     "base_uri": "https://localhost:8080/",
     "height": 178
    },
    "id": "XQFFV__yTZyF",
    "outputId": "c0093b96-46ac-4eb9-f0da-10f0e9ac98d0"
   },
   "outputs": [],
   "source": [
    "nk = [1, 5, 15]\n",
    "cv_knn_scores = pd.DataFrame(columns = ['R2', 'MSE', 'MAE'])\n",
    "for k in nk:\n",
    "     knn = KNeighborsRegressor(n_neighbors = k).fit(X_train, y_train)\n",
    "     cv_knn_scores.loc[\"knn-{}_train\".format(k),:] = accuracy_metrics(y_train, knn.predict(X_train))\n",
    "     cv_knn_scores.loc[\"knn-{}_val\".format(k),:] = accuracy_metrics(y_val, knn.predict(X_val))\n",
    "cv_knn_scores.sort_values(by = 'R2', ascending = False).iloc[0,:]"
   ]
  },
  {
   "cell_type": "code",
   "execution_count": null,
   "metadata": {
    "colab": {
     "base_uri": "https://localhost:8080/",
     "height": 143
    },
    "id": "DaDE0FdObJSk",
    "outputId": "9effeb8e-a1b5-40a0-e293-bda9a08afb36"
   },
   "outputs": [],
   "source": [
    "metric_results_train.sort_values(by = 'R2', ascending = False)\n",
    "metric_results_train"
   ]
  },
  {
   "cell_type": "code",
   "execution_count": null,
   "metadata": {
    "colab": {
     "base_uri": "https://localhost:8080/",
     "height": 238
    },
    "id": "rByabg-jU1xd",
    "outputId": "32deb7f6-6d97-4168-e3c7-ef6eb90467bb"
   },
   "outputs": [],
   "source": [
    "cv_knn_scores"
   ]
  },
  {
   "cell_type": "code",
   "execution_count": null,
   "metadata": {
    "id": "QeBgDQFyU1xe"
   },
   "outputs": [],
   "source": [
    "knn = KNeighborsRegressor(n_neighbors = 15).fit(X_train, y_train)\n",
    "metric_results_train.loc['kNN-15',:] = accuracy_metrics(y_train, knn.predict(X_train))\n",
    "metric_results_val.loc['kNN-15',:] = accuracy_metrics(y_val, knn.predict(X_val))"
   ]
  },
  {
   "cell_type": "code",
   "execution_count": null,
   "metadata": {
    "colab": {
     "base_uri": "https://localhost:8080/",
     "height": 175
    },
    "id": "KcyPhXARcdnW",
    "outputId": "783c57fd-44f0-4816-c784-936b50acbbef"
   },
   "outputs": [],
   "source": [
    "metric_results_val.sort_values(by = 'R2', ascending = False)\n",
    "metric_results_val"
   ]
  },
  {
   "cell_type": "markdown",
   "metadata": {
    "id": "oB3KLsBJUG-s"
   },
   "source": [
    "### REGRESSION TREE"
   ]
  },
  {
   "cell_type": "code",
   "execution_count": null,
   "metadata": {
    "id": "ohGjX4gyUHks"
   },
   "outputs": [],
   "source": [
    "reg_tree = DecisionTreeRegressor().fit(X_train, y_train)\n",
    "\n",
    "metric_results_train.loc['RT',:] = accuracy_metrics(y_train, reg_tree.predict(X_train))\n",
    "metric_results_val.loc['RT',:] = accuracy_metrics(y_val, reg_tree.predict(X_val))"
   ]
  },
  {
   "cell_type": "code",
   "execution_count": null,
   "metadata": {
    "colab": {
     "base_uri": "https://localhost:8080/",
     "height": 206
    },
    "id": "bS87KdujbK-o",
    "outputId": "307e17f7-c0c2-402c-e630-b6657d2aa286"
   },
   "outputs": [],
   "source": [
    "metric_results_val.sort_values(by = 'R2', ascending = False)\n",
    "metric_results_val"
   ]
  },
  {
   "cell_type": "markdown",
   "metadata": {
    "id": "kUwGQMrHVp0f"
   },
   "source": [
    "### EXTRA TREES"
   ]
  },
  {
   "cell_type": "code",
   "execution_count": null,
   "metadata": {
    "id": "-8bQEhCIVqMy"
   },
   "outputs": [],
   "source": [
    "extra_trees = ExtraTreesRegressor().fit(X_train,y_train)\n",
    "\n",
    "metric_results_train.loc['EXTRA-T',:] = accuracy_metrics(y_train, extra_trees.predict(X_train))\n",
    "metric_results_val.loc['EXTRA-T',:] = accuracy_metrics(y_val, extra_trees.predict(X_val))"
   ]
  },
  {
   "cell_type": "code",
   "execution_count": null,
   "metadata": {
    "colab": {
     "base_uri": "https://localhost:8080/",
     "height": 300
    },
    "id": "ChiFzT7Vj5oF",
    "outputId": "5c5fd458-f18d-4934-a071-b5ef45a2a796"
   },
   "outputs": [],
   "source": [
    "metric_results_val"
   ]
  },
  {
   "cell_type": "markdown",
   "metadata": {
    "id": "aD0HUnxYVE4S"
   },
   "source": [
    "### RANDOM FORESTS"
   ]
  },
  {
   "cell_type": "code",
   "execution_count": null,
   "metadata": {
    "colab": {
     "base_uri": "https://localhost:8080/",
     "height": 373
    },
    "id": "G4rsnusBVK94",
    "outputId": "a802eb0b-880b-4a44-c9a9-2168704549a3"
   },
   "outputs": [],
   "source": [
    "rand_forest = RandomForestRegressor(oob_score=True).fit(X_train, y_train)\n",
    "\n",
    "metric_results_train.loc['RF',:] = accuracy_metrics(y_train, rand_forest.predict(X_train))\n",
    "metric_results_val.loc['RF',:] = accuracy_metrics(y_val, rand_forest.predict(X_val))\n",
    "\n",
    "print('OOB accuracy=', rand_forest.oob_score_)"
   ]
  },
  {
   "cell_type": "code",
   "execution_count": null,
   "metadata": {
    "colab": {
     "base_uri": "https://localhost:8080/"
    },
    "id": "4pEUPGiCU1xf",
    "outputId": "fbbcc989-94ab-4238-8174-fd9a84caa8aa"
   },
   "outputs": [],
   "source": [
    "from sklearn.ensemble import RandomForestRegressor\n",
    "from sklearn.model_selection import RandomizedSearchCV\n",
    "import numpy as np\n",
    "\n",
    "rand_forest = RandomForestRegressor(oob_score=True, random_state=42)\n",
    "\n",
    "param_dist = {\n",
    "    'n_estimators': [100, 150],\n",
    "    'min_samples_split': [5, 10],\n",
    "    'min_samples_leaf': [1, 2]\n",
    "}\n",
    "\n",
    "random_search = RandomizedSearchCV(\n",
    "    estimator=rand_forest,\n",
    "    param_distributions=param_dist,\n",
    "    n_iter=5,\n",
    "    cv=3,\n",
    "    scoring='neg_mean_absolute_error',\n",
    "    verbose=2,\n",
    "    n_jobs=-1,\n",
    "    random_state=42\n",
    ")\n",
    "\n",
    "random_search.fit(X_train, y_train)\n",
    "\n",
    "print(\"Best parameters:\", random_search.best_params_)\n",
    "print(\"Best MAE:\", -random_search.best_score_)"
   ]
  },
  {
   "cell_type": "code",
   "execution_count": null,
   "metadata": {
    "id": "Ej885vI7U1xg"
   },
   "outputs": [],
   "source": [
    "best_params = random_search.best_params_\n",
    "best_forest = RandomForestRegressor(**best_params, oob_score=True, random_state=42).fit(X_train, y_train)\n",
    "\n",
    "metric_results_train.loc['BEST-F',:] = accuracy_metrics(y_train, best_forest.predict(X_train))\n",
    "metric_results_val.loc['BEST-F',:] = accuracy_metrics(y_val, best_forest.predict(X_val))"
   ]
  },
  {
   "cell_type": "code",
   "execution_count": null,
   "metadata": {
    "colab": {
     "base_uri": "https://localhost:8080/",
     "height": 332
    },
    "id": "mfDvCdceVSJq",
    "outputId": "e4a8bbae-8ef3-4cda-899f-5f5d64089269"
   },
   "outputs": [],
   "source": [
    "metric_results_train.sort_values(by = 'R2', ascending = False)\n",
    "metric_results_train"
   ]
  },
  {
   "cell_type": "code",
   "execution_count": null,
   "metadata": {
    "colab": {
     "base_uri": "https://localhost:8080/",
     "height": 332
    },
    "id": "_TTNYyVfU1xk",
    "outputId": "281a7fda-bd18-48f6-c276-6cdc93cd199d"
   },
   "outputs": [],
   "source": [
    "metric_results_val.sort_values(by = 'R2', ascending = False)\n",
    "metric_results_val"
   ]
  },
  {
   "cell_type": "code",
   "execution_count": null,
   "metadata": {
    "id": "hAzhFo2OoMlg"
   },
   "outputs": [],
   "source": [
    "best_params = random_search.best_params_\n",
    "best_forest = RandomForestRegressor(**best_params, oob_score=True, random_state=42).fit(X, y)"
   ]
  },
  {
   "cell_type": "markdown",
   "metadata": {
    "id": "jgnnbN2428IJ"
   },
   "source": [
    "### SUBMISSIONS: EMBEDDINGS AND OTHERS"
   ]
  },
  {
   "cell_type": "markdown",
   "metadata": {},
   "source": [
    "SUBMISSION 1"
   ]
  },
  {
   "cell_type": "code",
   "execution_count": null,
   "metadata": {
    "colab": {
     "base_uri": "https://localhost:8080/",
     "height": 273
    },
    "id": "ASIOdAGGpKam",
    "outputId": "2f6b9b25-83f3-4960-ee9f-66307b18ff5e"
   },
   "outputs": [],
   "source": [
    "X_test = pd.read_csv('nanfree_test.csv')\n",
    "X_test.head()"
   ]
  },
  {
   "cell_type": "code",
   "execution_count": null,
   "metadata": {
    "id": "oPvs2Rlnphe-"
   },
   "outputs": [],
   "source": [
    "ids = X_test['Listing.ListingId']\n",
    "X_test = X_test.drop(columns = ['Listing.ListingId'])"
   ]
  },
  {
   "cell_type": "code",
   "execution_count": null,
   "metadata": {
    "id": "CxCDLav-od55"
   },
   "outputs": [],
   "source": [
    "y_pred_test = best_forest.predict(X_test)"
   ]
  },
  {
   "cell_type": "code",
   "execution_count": null,
   "metadata": {
    "colab": {
     "base_uri": "https://localhost:8080/"
    },
    "id": "QKmJCpW8r6ft",
    "outputId": "e885cdfb-5f09-4c92-bb95-6b8977558c13"
   },
   "outputs": [],
   "source": [
    "results = pd.DataFrame({'Listing.ListingId': ids, 'Listing.Price.ClosePrice': y_pred_test})\n",
    "print(results.head())\n",
    "\n",
    "results.to_csv('submission1.csv', index=False)"
   ]
  },
  {
   "cell_type": "markdown",
   "metadata": {},
   "source": [
    "SUBMISSION 2"
   ]
  },
  {
   "cell_type": "code",
   "execution_count": null,
   "metadata": {},
   "outputs": [],
   "source": [
    "submission2_forest = RandomForestRegressor(n_estimators=300, learning_rate=0.1, max_depth=5, random_state=42).fit(X, y)\n",
    "\n",
    "y_pred = submission2_forest.predict(X_test)\n",
    "results = pd.DataFrame({'Listing.ListingId': ids, 'Listing.Price.ClosePrice': y_pred})\n",
    "\n",
    "results.to_csv('submission2.csv', index=False)"
   ]
  },
  {
   "cell_type": "markdown",
   "metadata": {},
   "source": [
    "SUBMISSION 3"
   ]
  },
  {
   "cell_type": "code",
   "execution_count": null,
   "metadata": {
    "colab": {
     "base_uri": "https://localhost:8080/",
     "height": 231
    },
    "id": "2uFEEw3w2VjJ",
    "outputId": "91f7f7d8-2d20-4b19-e625-5160cba4ec54"
   },
   "outputs": [],
   "source": [
    "gbr = GradientBoostingRegressor(n_estimators=300, learning_rate=0.1, max_depth=5, random_state=42)\n",
    "gbr.fit(X, y)\n",
    "\n",
    "# Prediccions\n",
    "metric_results_train.loc['GBR',:] = accuracy_metrics(y, gbr.predict(X))\n",
    "metric_results_val.loc['GBR',:] = accuracy_metrics(y, gbr.predict(X))"
   ]
  },
  {
   "cell_type": "code",
   "execution_count": null,
   "metadata": {},
   "outputs": [],
   "source": [
    "y_pred = gbr.predict(X_test)\n",
    "results = pd.DataFrame({'Listing.ListingId': ids, 'Listing.Price.ClosePrice': y_pred})\n",
    "\n",
    "results.to_csv('submission3.csv', index=False)"
   ]
  }
 ],
 "metadata": {
  "colab": {
   "provenance": []
  },
  "kernelspec": {
   "display_name": "Python 3",
   "name": "python3"
  },
  "language_info": {
   "codemirror_mode": {
    "name": "ipython",
    "version": 3
   },
   "file_extension": ".py",
   "mimetype": "text/x-python",
   "name": "python",
   "nbconvert_exporter": "python",
   "pygments_lexer": "ipython3",
   "version": "3.11.0"
  }
 },
 "nbformat": 4,
 "nbformat_minor": 0
}
